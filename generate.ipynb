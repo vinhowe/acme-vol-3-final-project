{
 "cells": [
  {
   "cell_type": "markdown",
   "metadata": {},
   "source": [
    "# Generate HMM samples\n"
   ]
  },
  {
   "cell_type": "markdown",
   "metadata": {},
   "source": [
    "## Setup\n"
   ]
  },
  {
   "cell_type": "markdown",
   "metadata": {},
   "source": [
    "### Imports\n"
   ]
  },
  {
   "cell_type": "code",
   "execution_count": 1,
   "metadata": {},
   "outputs": [],
   "source": [
    "import glob\n",
    "import re\n",
    "import sys\n",
    "from functools import wraps\n",
    "from typing import cast\n",
    "\n",
    "import numpy as np\n",
    "import pandas as pd\n",
    "from tqdm.auto import tqdm, trange"
   ]
  },
  {
   "cell_type": "markdown",
   "metadata": {},
   "source": [
    "### Misc. config\n"
   ]
  },
  {
   "cell_type": "code",
   "execution_count": 2,
   "metadata": {},
   "outputs": [],
   "source": [
    "# This makes things look better on high-dpi displays\n",
    "%matplotlib inline\n",
    "%config InlineBackend.figure_format='retina'\n",
    "# Set numpy to display 4 digits to make things more readable\n",
    "np.set_printoptions(precision=4)"
   ]
  },
  {
   "cell_type": "markdown",
   "metadata": {},
   "source": [
    "### Sampling/utility functions\n"
   ]
  },
  {
   "cell_type": "code",
   "execution_count": 3,
   "metadata": {},
   "outputs": [],
   "source": [
    "def temperature_scaling(p, temperature):\n",
    "    # Add small epsilon to avoid log(0)\n",
    "    eps = 1e-8\n",
    "    log_probs = np.log(p + eps)\n",
    "    scaled = np.exp(log_probs / temperature)\n",
    "    return scaled / np.sum(scaled)\n",
    "\n",
    "\n",
    "def sample(p, temperature=None):\n",
    "    if temperature is not None:\n",
    "        p = temperature_scaling(p, temperature)\n",
    "    return np.random.choice(len(p), p=p)\n",
    "\n",
    "\n",
    "def build_matrix_sampler(df):\n",
    "    # This just makes it one step easier to sample from the matrix\n",
    "    # I don't know how efficient pandas is at this conversion internally, so this is\n",
    "    # very defensive.\n",
    "    matrix = df.to_numpy()\n",
    "\n",
    "    @wraps(sample)\n",
    "    def wrapper(id_, *args, **kwargs):\n",
    "        col_idx = df.columns.get_loc(id_)\n",
    "        p = matrix[:, col_idx]\n",
    "        index = sample(p, *args, **kwargs)\n",
    "        return df.index[index]\n",
    "\n",
    "    return wrapper\n",
    "\n",
    "\n",
    "def check_lists_match(list1, list2):\n",
    "    for i, (item1, item2) in enumerate(zip(list1, list2)):\n",
    "        assert item1 == item2, f\"Item mismatch at position {i}: {item1} != {item2}\"\n"
   ]
  },
  {
   "cell_type": "markdown",
   "metadata": {},
   "source": [
    "## Setup chord-to-note ($S_0$)\n"
   ]
  },
  {
   "cell_type": "code",
   "execution_count": null,
   "metadata": {},
   "outputs": [],
   "source": [
    "# import data/chord-to-note.csv\n",
    "chord_to_note = pd.read_csv(\"data/chord-to-note.csv\", index_col=0)\n",
    "# Sort headers (select columns and sort them)\n",
    "chord_to_note = chord_to_note.sort_index(axis=1, key=lambda x: x.str.split(\" \").str[0])\n",
    "# Sort rows by index\n",
    "chord_to_note = chord_to_note.sort_index()\n",
    "# Renormalize columns\n",
    "chord_to_note = chord_to_note / chord_to_note.sum(axis=0)\n",
    "\n",
    "# Display the sorted DataFrame\n",
    "chord_to_note.head()"
   ]
  },
  {
   "cell_type": "markdown",
   "metadata": {},
   "source": [
    "### Define $S_0$ sampling method\n"
   ]
  },
  {
   "cell_type": "code",
   "execution_count": 5,
   "metadata": {},
   "outputs": [],
   "source": [
    "sample_chord_to_note = build_matrix_sampler(chord_to_note)"
   ]
  },
  {
   "cell_type": "code",
   "execution_count": null,
   "metadata": {},
   "outputs": [],
   "source": [
    "sample_chord_to_note(\"Em\")"
   ]
  },
  {
   "cell_type": "markdown",
   "metadata": {},
   "source": [
    "## Setup note-to-note ($S_j$)\n"
   ]
  },
  {
   "cell_type": "code",
   "execution_count": null,
   "metadata": {},
   "outputs": [],
   "source": [
    "# import data/note-to-note.csv\n",
    "note_to_note = pd.read_csv(\"data/note-to-note.csv\", index_col=0)\n",
    "# Convert headers and index to integers\n",
    "note_to_note.columns = note_to_note.columns.astype(int)\n",
    "note_to_note.index = note_to_note.index.astype(int)\n",
    "# Sort headers\n",
    "note_to_note = note_to_note.sort_index(axis=1)\n",
    "# Sort index\n",
    "note_to_note = note_to_note.sort_index()\n",
    "# Renormalize columns\n",
    "note_to_note = note_to_note / note_to_note.sum(axis=0)\n",
    "# Display the sorted DataFrame\n",
    "note_to_note.head()"
   ]
  },
  {
   "cell_type": "markdown",
   "metadata": {},
   "source": [
    "### Sanity check: relationship between note-to-note header and index\n"
   ]
  },
  {
   "cell_type": "code",
   "execution_count": 8,
   "metadata": {},
   "outputs": [],
   "source": [
    "# Get note_to_note header and index\n",
    "note_to_note_header = set(map(int, note_to_note.columns))\n",
    "note_to_note_index = set(map(int, note_to_note.index))\n",
    "\n",
    "# Assert difference is 0\n",
    "assert len(note_to_note_header - note_to_note_index) == 0\n",
    "assert len(note_to_note_index - note_to_note_header) == 0"
   ]
  },
  {
   "cell_type": "markdown",
   "metadata": {},
   "source": [
    "### Define $S_j$ sampling method\n"
   ]
  },
  {
   "cell_type": "code",
   "execution_count": 9,
   "metadata": {},
   "outputs": [],
   "source": [
    "sample_note_to_note = build_matrix_sampler(note_to_note)"
   ]
  },
  {
   "cell_type": "code",
   "execution_count": null,
   "metadata": {},
   "outputs": [],
   "source": [
    "sample_note_to_note(38)"
   ]
  },
  {
   "cell_type": "markdown",
   "metadata": {},
   "source": [
    "### Define phrase generation method\n"
   ]
  },
  {
   "cell_type": "code",
   "execution_count": 11,
   "metadata": {},
   "outputs": [],
   "source": [
    "def phrase_generator(s_0, temperature=None):\n",
    "    yield s_0\n",
    "    prev_note = s_0\n",
    "    # sample subsequent notes from note_to_note\n",
    "    while True:\n",
    "        yield (prev_note := sample_note_to_note(prev_note, temperature))"
   ]
  },
  {
   "cell_type": "code",
   "execution_count": 12,
   "metadata": {},
   "outputs": [],
   "source": [
    "def sample_phrase(s_0, k, temperature=None):\n",
    "    generator = phrase_generator(s_0, temperature)\n",
    "    return [next(generator) for _ in range(k)]"
   ]
  },
  {
   "cell_type": "code",
   "execution_count": null,
   "metadata": {},
   "outputs": [],
   "source": [
    "list(sample_phrase(38, 5, temperature=1))"
   ]
  },
  {
   "cell_type": "markdown",
   "metadata": {},
   "source": [
    "## Setup triad variations ($V_t$)\n"
   ]
  },
  {
   "cell_type": "code",
   "execution_count": 14,
   "metadata": {},
   "outputs": [],
   "source": [
    "triad_variations = {}\n",
    "\n",
    "for file_path in glob.glob(\"data/triad-variation/*.csv\"):\n",
    "    with open(file_path, \"r\") as f:\n",
    "        df = pd.read_csv(f, index_col=0)\n",
    "        key = df.columns[0]\n",
    "        df.columns = [\"p\"]\n",
    "        assert np.allclose(df[\"p\"].sum(), 1), f\"Probabilities for {key} do not sum to 1\"\n",
    "        triad_variations[key] = df"
   ]
  },
  {
   "cell_type": "code",
   "execution_count": null,
   "metadata": {},
   "outputs": [],
   "source": [
    "triad_variations[\"A#M\"]"
   ]
  },
  {
   "cell_type": "markdown",
   "metadata": {},
   "source": [
    "### Define $V_t$ sampling method\n"
   ]
  },
  {
   "cell_type": "code",
   "execution_count": 16,
   "metadata": {},
   "outputs": [],
   "source": [
    "def sample_triad_variation(chord, temperature=None):\n",
    "    variations = triad_variations[chord]\n",
    "    p = variations[\"p\"]\n",
    "    return variations.index[sample(p, temperature)]"
   ]
  },
  {
   "cell_type": "code",
   "execution_count": null,
   "metadata": {},
   "outputs": [],
   "source": [
    "sample_triad_variation(\"A#M\")"
   ]
  },
  {
   "cell_type": "markdown",
   "metadata": {},
   "source": [
    "### Sanity check: relationship between chord-note index and note-note index\n"
   ]
  },
  {
   "cell_type": "code",
   "execution_count": null,
   "metadata": {},
   "outputs": [],
   "source": [
    "chord_to_note_index = set(map(int, chord_to_note.index))\n",
    "print(\n",
    "    \"Notes in chord_to_note but not in note_to_note\",\n",
    "    set(chord_to_note_index) - set(note_to_note_index),\n",
    ")\n",
    "print(\n",
    "    \"Notes in note_to_note but not in chord_to_note\",\n",
    "    set(note_to_note_index) - set(chord_to_note_index),\n",
    ")\n",
    "print()\n",
    "print(\"\\033[1mWe've decided this is fine.\\033[0m\")"
   ]
  },
  {
   "cell_type": "markdown",
   "metadata": {},
   "source": [
    "## Setup triad-to-triad ($U_t$)\n"
   ]
  },
  {
   "cell_type": "code",
   "execution_count": 19,
   "metadata": {},
   "outputs": [],
   "source": [
    "from typing import Match\n",
    "\n",
    "triad_to_triad = {}\n",
    "\n",
    "rows_order = None\n",
    "columns_order = None\n",
    "\n",
    "triad_to_triad_index_to_id = {}\n",
    "\n",
    "for file_path in glob.glob(\"data/triad-to-triad/*.csv\"):\n",
    "    lookback_length = (\n",
    "        int(cast(Match[str], re.search(r\"(\\d+)-step\", file_path)).group(1)) - 1\n",
    "    )\n",
    "    with open(file_path, \"r\") as f:\n",
    "        # Setting the first column as the index makes a lot fo the work we do much nicer\n",
    "        df = pd.read_csv(f, index_col=0)\n",
    "        # Sort headers after first column (select other columns and sort them)\n",
    "        df = df.sort_index(axis=1)\n",
    "        # Sort rows by first column\n",
    "        df = df.sort_index()\n",
    "        # Renormalize columns\n",
    "        df = df / df.sum(axis=0)\n",
    "\n",
    "        if rows_order is None or columns_order is None:\n",
    "            rows_order = df.index.tolist()\n",
    "            columns_order = df.columns.tolist()\n",
    "\n",
    "            # Get note_to_note header and index\n",
    "            triad_to_triad_header_set = set(rows_order)\n",
    "            triad_to_triad_index_set = set(columns_order)\n",
    "\n",
    "            # Assert difference set is empty\n",
    "            assert len(triad_to_triad_header_set - triad_to_triad_index_set) == 0, (\n",
    "                f\"triad_to_triad_header - triad_to_triad_index: {triad_to_triad_header_set - triad_to_triad_index_set}\"\n",
    "            )\n",
    "            assert len(triad_to_triad_index_set - triad_to_triad_header_set) == 0, (\n",
    "                f\"triad_to_triad_index - triad_to_triad_header: {triad_to_triad_index_set - triad_to_triad_header_set}\"\n",
    "            )\n",
    "\n",
    "            # Create the mappings we need\n",
    "            triad_to_triad_index_to_id = dict(\n",
    "                zip(range(len(columns_order)), columns_order)\n",
    "            )\n",
    "\n",
    "        # Compare each item to ensure they match (this is defensive)\n",
    "        check_lists_match(df.index.tolist(), rows_order)\n",
    "        check_lists_match(df.columns.tolist(), columns_order)\n",
    "\n",
    "        # Again, including the numpy version is defensive to the point of being hard\n",
    "        # to defend.\n",
    "        triad_to_triad[lookback_length] = (df, df.to_numpy())"
   ]
  },
  {
   "cell_type": "markdown",
   "metadata": {},
   "source": [
    "### Define $U_t$ sampling method\n"
   ]
  },
  {
   "cell_type": "code",
   "execution_count": 20,
   "metadata": {},
   "outputs": [],
   "source": [
    "def triad_to_triad_lag_distribution(lag, chord):\n",
    "    df, matrix = triad_to_triad[lag]\n",
    "    col_idx = df.columns.get_loc(chord)\n",
    "    return matrix[:, col_idx]"
   ]
  },
  {
   "cell_type": "code",
   "execution_count": 21,
   "metadata": {},
   "outputs": [],
   "source": [
    "def sample_triad_to_triad(past_chords, m, weights, temperature=None):\n",
    "    p = np.zeros(len(triad_to_triad_index_to_id))\n",
    "\n",
    "    # Combine vectors from each lag\n",
    "    for j in range(min(m, len(past_chords), 8)):\n",
    "        # For j, we want the chord at t - j, which is just -j - 1\n",
    "        chord = past_chords[-(j + 1)]\n",
    "        # Get the probability distribution of the triad to triad transition\n",
    "        p += weights[j] * triad_to_triad_lag_distribution(j, chord)\n",
    "\n",
    "    # Normalize combined probability distribution\n",
    "    p /= np.sum(p)\n",
    "\n",
    "    return triad_to_triad_index_to_id[sample(p, temperature)]"
   ]
  },
  {
   "cell_type": "code",
   "execution_count": null,
   "metadata": {},
   "outputs": [],
   "source": [
    "triad_to_triad_lag_distribution(0, \"A#M\")"
   ]
  },
  {
   "cell_type": "code",
   "execution_count": null,
   "metadata": {},
   "outputs": [],
   "source": [
    "example_past_chords = [\"A#M\", \"GM\", \"C#M\"]\n",
    "example_past_chords_length = len(example_past_chords)\n",
    "example_past_chords_weights = (\n",
    "    np.ones(example_past_chords_length) / example_past_chords_length\n",
    ")\n",
    "sample_triad_to_triad(\n",
    "    example_past_chords,\n",
    "    example_past_chords_length,\n",
    "    example_past_chords_weights,\n",
    "    temperature=None,\n",
    ")"
   ]
  },
  {
   "cell_type": "markdown",
   "metadata": {},
   "source": [
    "## Generation\n"
   ]
  },
  {
   "cell_type": "markdown",
   "metadata": {},
   "source": [
    "### Define burn-in initialization\n"
   ]
  },
  {
   "cell_type": "code",
   "execution_count": 24,
   "metadata": {},
   "outputs": [],
   "source": [
    "# Configure as desired\n",
    "MAX_BURN_IN_RETRIES = 10_000\n",
    "MAX_BURN_IN_LENGTH = 10_000_000"
   ]
  },
  {
   "cell_type": "code",
   "execution_count": 25,
   "metadata": {},
   "outputs": [],
   "source": [
    "def initialize_burn_in(u_0, n, temperature=None):\n",
    "    t = None\n",
    "    chords = None\n",
    "    success = True\n",
    "\n",
    "    for retry in range(MAX_BURN_IN_RETRIES):\n",
    "        chords = [u_0]\n",
    "        t = 0\n",
    "        last_chord = u_0\n",
    "        with tqdm(total=n, desc=\"Burn in\") as pbar:\n",
    "            while t < n or (last_chord != u_0):\n",
    "                t += 1\n",
    "                triad_u_t = None\n",
    "                while triad_u_t is None or triad_u_t == \"End\":\n",
    "                    p = triad_to_triad_lag_distribution(0, last_chord)\n",
    "                    triad_u_t = triad_to_triad_index_to_id[sample(p, temperature)]\n",
    "                chords.append(triad_u_t)\n",
    "                last_chord = triad_u_t\n",
    "                pbar.update(1)\n",
    "                if t > MAX_BURN_IN_LENGTH:\n",
    "                    print(\n",
    "                        f\"Burn in attempt {retry} failed after {t} steps\",\n",
    "                        file=sys.stderr,\n",
    "                    )\n",
    "                    success = False\n",
    "                    break\n",
    "        if success:\n",
    "            break\n",
    "\n",
    "    if not success:\n",
    "        print(\n",
    "            f\"Burn in failed after maximum {MAX_BURN_IN_RETRIES} retries\",\n",
    "            file=sys.stderr,\n",
    "        )\n",
    "        raise Exception(\"Burn in failed\")\n",
    "    return chords"
   ]
  },
  {
   "cell_type": "code",
   "execution_count": null,
   "metadata": {},
   "outputs": [],
   "source": [
    "cast(list[str], initialize_burn_in(\"CM\", 500))[-5:]"
   ]
  },
  {
   "cell_type": "markdown",
   "metadata": {},
   "source": [
    "### Define generation sampler\n"
   ]
  },
  {
   "cell_type": "code",
   "execution_count": 27,
   "metadata": {},
   "outputs": [],
   "source": [
    "DEFAULT_MAX_LENGTH = 100"
   ]
  },
  {
   "cell_type": "code",
   "execution_count": null,
   "metadata": {},
   "outputs": [],
   "source": [
    "def generate_music(\n",
    "    u_0, k, m, n, initial_chords=None, weights=None, max_length=DEFAULT_MAX_LENGTH\n",
    "):\n",
    "    weights = np.array(weights) if weights is not None else np.ones(m) / m\n",
    "    assert weights.shape == (m,), f\"Weights shape {weights.shape} does not match m {m}\"\n",
    "    assert np.allclose((weights_sum := weights.sum()), 1), (\n",
    "        f\"Weights do not sum to 1: {weights_sum}\"\n",
    "    )\n",
    "    output = []\n",
    "    triad_u_t = u_0\n",
    "    # I chose to allow initial_chords instead of hardcoding an initialization function\n",
    "    # because that lets us easily try out different initialization methods without\n",
    "    # making it the responsibility of this method\n",
    "    chords = [u_0] if initial_chords is None else initial_chords\n",
    "    n = max(n, m)\n",
    "    # Notice here that we set t to 0, which ignores any initial chords. This lets us\n",
    "    # get an output of consistent length (at least with the current burn-in\n",
    "    # implementation), but we could also do:\n",
    "    #\n",
    "    # t = len(initial_chords) if initial_chords is not None else 0\n",
    "    #\n",
    "    # Again, depends how much we care about getting a consistent length of output from\n",
    "    # the model.\n",
    "    t = 0\n",
    "\n",
    "    assert chords[-1] == u_0\n",
    "\n",
    "    with tqdm(total=min(max_length, n), desc=\"Generation\") as pbar:\n",
    "        while triad_u_t != \"End\" and t < min(max_length, n):\n",
    "            # Sample the first variation\n",
    "            triad_variation_x_t = sample_triad_variation(triad_u_t, temperature=None)\n",
    "            # Sample the first note\n",
    "            first_note_s_0 = sample_chord_to_note(triad_variation_x_t, temperature=None)\n",
    "            # Sample phrase\n",
    "            phrase_z_t = sample_phrase(first_note_s_0, k, temperature=None)\n",
    "            # Add to results\n",
    "            output.append((triad_u_t, phrase_z_t))\n",
    "\n",
    "            # Sample next triad\n",
    "            triad_u_t = sample_triad_to_triad(chords, m, weights, temperature=None)\n",
    "            if triad_u_t == \"End\":\n",
    "                break\n",
    "            # Update past chords\n",
    "            chords.append(triad_u_t)\n",
    "\n",
    "            t += 1\n",
    "            pbar.update(1)\n",
    "\n",
    "    return output"
   ]
  },
  {
   "cell_type": "markdown",
   "metadata": {},
   "source": [
    "### Generate music\n"
   ]
  },
  {
   "cell_type": "code",
   "execution_count": null,
   "metadata": {},
   "outputs": [],
   "source": [
    "# Based on counts in https://en.wikipedia.org/wiki/List_of_chord_progressions\n",
    "FREQUENCY_WEIGHTS = np.array([35, 34, 32, 17, 4, 2, 1, 1], dtype=np.float64)\n",
    "FREQUENCY_WEIGHTS /= FREQUENCY_WEIGHTS.sum()"
   ]
  },
  {
   "cell_type": "code",
   "execution_count": null,
   "metadata": {},
   "outputs": [],
   "source": [
    "burned_in_chords = initialize_burn_in(\"A#M\", 5)\n",
    "music = generate_music(\n",
    "    \"A#M\", 8, 8, 10, initial_chords=burned_in_chords, weights=FREQUENCY_WEIGHTS\n",
    ")\n",
    "music[-5:]"
   ]
  },
  {
   "cell_type": "markdown",
   "metadata": {},
   "source": [
    "### Postprocess for output\n"
   ]
  },
  {
   "cell_type": "code",
   "execution_count": null,
   "metadata": {},
   "outputs": [],
   "source": [
    "# from music21 import note, tie, harmony\n",
    "from music21.note import Note, Rest\n",
    "from music21.tie import Tie\n",
    "from music21.harmony import ChordSymbol\n",
    "from music21.expressions import TextExpression\n",
    "from music21.metadata import Metadata\n",
    "\n",
    "# These imports are this way because ruff complains about the more direct imports\n",
    "from music21.meter.base import TimeSignature\n",
    "from music21.stream.base import Measure, Score, Part"
   ]
  },
  {
   "cell_type": "code",
   "execution_count": 32,
   "metadata": {},
   "outputs": [],
   "source": [
    "def chunk_every(seq, size):\n",
    "    return (seq[pos : pos + size] for pos in range(0, len(seq), size))"
   ]
  },
  {
   "cell_type": "code",
   "execution_count": 33,
   "metadata": {},
   "outputs": [],
   "source": [
    "def postprocess_output(music, metadata=None):\n",
    "    # TODO: There is a bug in here dealing with tying things across measures\n",
    "    chords, phrases = zip(*music)\n",
    "    chords = list(chunk_every(chords, 2))\n",
    "    phrases = list(chunk_every(phrases, 2))\n",
    "    score = Score()\n",
    "    melody_part = Part()\n",
    "    harmony_part = Part()\n",
    "    melody_part.append(TimeSignature(\"4/4\"))\n",
    "    harmony_part.append(TimeSignature(\"4/4\"))\n",
    "\n",
    "    score.metadata = Metadata()\n",
    "    score.metadata.title = \"Generated score\"\n",
    "    if metadata is not None:\n",
    "        score.metadata.composer = metadata\n",
    "\n",
    "    # This variable will hold the last note or rest from the previous measure, so we can\n",
    "    # carry it over if a measure starts with -2.\n",
    "    last_element = None\n",
    "\n",
    "    for j, (chord_names, phrase_group) in enumerate(zip(chords, phrases)):\n",
    "        melody_measure = Measure()\n",
    "        harmony_measure = Measure()\n",
    "        quarter_sum = 0\n",
    "\n",
    "        for chord_name, phrase in zip(chord_names, phrase_group):\n",
    "            # Add chord symbol (displayed over the entire measure)\n",
    "            cs = ChordSymbol(chord_name)\n",
    "            cs.quarterLength = 2\n",
    "            harmony_measure.append(cs)\n",
    "            # Process each symbol in the phrase\n",
    "            for i, symbol in enumerate(phrase):\n",
    "                if symbol >= 0:\n",
    "                    # Create a new note with duration one quarter note.\n",
    "                    n = Note()\n",
    "                    n.pitch.midi = symbol\n",
    "                    n.quarterLength = 0.25\n",
    "                    melody_measure.append(n)\n",
    "                    quarter_sum += 0.25\n",
    "                    # Update last element\n",
    "                    last_element = n\n",
    "                elif symbol == -1:\n",
    "                    # Create a rest with duration one quarter note.\n",
    "                    r = Rest(quarterLength=0.25)\n",
    "                    melody_measure.append(r)\n",
    "                    quarter_sum += 0.25\n",
    "                    # Update last element\n",
    "                    last_element = r\n",
    "                elif symbol == -2:\n",
    "                    # Determine if we're at the beginning of the measure (chord symbol)\n",
    "                    # m[0] is the chord symbol, so if len(m)==1 then no note/rest has\n",
    "                    # been added\n",
    "                    # yet.\n",
    "                    if len(melody_measure) == 0:\n",
    "                        # Measure starts with -2: carry over the last element from\n",
    "                        # previous measure\n",
    "                        if last_element is None:\n",
    "                            # At the very start: no previous element. Create a rest.\n",
    "                            r = Rest(quarterLength=0.25)\n",
    "                            # print(f\"Rest in measure {j} (last_element is None)\")\n",
    "                            melody_measure.append(r)\n",
    "                            quarter_sum += 0.25\n",
    "                            last_element = r\n",
    "                        else:\n",
    "                            # Create a tied note or rest in the new measure based on\n",
    "                            # last_element.\n",
    "                            if isinstance(last_element, Note):\n",
    "                                new_elem = Note(last_element.pitch)\n",
    "                            else:\n",
    "                                new_elem = Rest()\n",
    "                            new_elem.quarterLength = 0.25\n",
    "                            # For ties, update the previous element's tie:\n",
    "                            # If it doesn't have one, mark it as starting a tie.\n",
    "                            if (\n",
    "                                not hasattr(last_element, \"tie\")\n",
    "                                or last_element.tie is None\n",
    "                            ):\n",
    "                                last_element.tie = Tie(\"start\")\n",
    "                            else:\n",
    "                                # If already tied, set it to 'continue'\n",
    "                                last_element.tie = Tie(\"continue\")\n",
    "                            # Mark the new element as the ending tie.\n",
    "                            new_elem.tie = Tie(\"stop\")\n",
    "                            melody_measure.append(new_elem)\n",
    "                            last_element = new_elem\n",
    "                    else:\n",
    "                        # Otherwise, extend the previous element in the current measure by one\n",
    "                        # quarter note.\n",
    "                        # This effectively lengthens its duration.\n",
    "                        # We assume here that m[-1] is a note or a rest.\n",
    "                        if last_element is not None and hasattr(\n",
    "                            last_element, \"quarterLength\"\n",
    "                        ):\n",
    "                            last_element.quarterLength += 0.25\n",
    "                            quarter_sum += 0.25\n",
    "                            last_element = melody_measure[-1]\n",
    "                        else:\n",
    "                            # Fallback: if for some reason there is no valid element, add a rest.\n",
    "                            r = Rest(quarterLength=0.25)\n",
    "                            print(f\"Rest in measure {j} (no valid element)\")\n",
    "                            melody_measure.append(r)\n",
    "                            quarter_sum += 0.25\n",
    "                            last_element = r\n",
    "\n",
    "        melody_part.append(melody_measure)\n",
    "        harmony_part.append(harmony_measure)\n",
    "\n",
    "    score.append(harmony_part)\n",
    "    score.append(melody_part)\n",
    "    return score"
   ]
  },
  {
   "cell_type": "code",
   "execution_count": 34,
   "metadata": {},
   "outputs": [],
   "source": [
    "example_generated_music = [\n",
    "    (\"FM\", [74, 77, -2, 67, -2, 75, -2, -2]),\n",
    "    (\"CM\", [-2, -2, 74, -2, -2, -2, 66, -2]),\n",
    "    (\"A#m\", [79, 78, -2, 75, -2, -2, 58, -2]),\n",
    "    (\"FM\", [78, -2, -2, -2, -2, -2, -2, 68]),\n",
    "    (\"FM\", [69, -2, -2, -2, -2, 66, -2, -2]),\n",
    "    (\"D#m\", [81, -2, -2, 75, -2, 64, -2, 73]),\n",
    "    (\"G#m\", [68, -2, -2, -2, 76, -2, 84, -2]),\n",
    "    (\"D#m\", [61, -2, 82, -2, -2, -2, -2, 72]),\n",
    "    (\"EM\", [77, -2, -2, -2, 82, -2, -1, -2]),\n",
    "    (\"CM\", [76, -2, -2, -2, -2, -2, -2, -2]),\n",
    "]"
   ]
  },
  {
   "cell_type": "code",
   "execution_count": 35,
   "metadata": {},
   "outputs": [],
   "source": [
    "example_generated_score = postprocess_output(example_generated_music, \"Example\")"
   ]
  },
  {
   "cell_type": "code",
   "execution_count": null,
   "metadata": {},
   "outputs": [],
   "source": [
    "example_generated_score.write(\"musicxml\", fp=\"output.musicxml\")"
   ]
  },
  {
   "cell_type": "markdown",
   "metadata": {},
   "source": [
    "## Try things\n"
   ]
  },
  {
   "cell_type": "code",
   "execution_count": 37,
   "metadata": {},
   "outputs": [],
   "source": [
    "!mkdir -p outputs"
   ]
  },
  {
   "cell_type": "code",
   "execution_count": null,
   "metadata": {},
   "outputs": [],
   "source": [
    "# No burn-in\n",
    "no_burn_in_music = generate_music(\n",
    "    \"AM\", 8, 8, 100, initial_chords=None, weights=FREQUENCY_WEIGHTS\n",
    ")\n",
    "no_burn_in_score = postprocess_output(no_burn_in_music, \"No burn-in\")\n",
    "no_burn_in_score.write(\"musicxml\", fp=\"outputs/no-burn-in.musicxml\")"
   ]
  },
  {
   "cell_type": "code",
   "execution_count": null,
   "metadata": {},
   "outputs": [],
   "source": [
    "# Long burn-in\n",
    "long_burn_in_duration = 100_000\n",
    "key = \"AM\"\n",
    "burned_in_chords = initialize_burn_in(key, long_burn_in_duration)\n",
    "long_burn_in_music = generate_music(\n",
    "    key, 8, 8, 100, initial_chords=burned_in_chords, weights=FREQUENCY_WEIGHTS\n",
    ")\n",
    "long_burn_in_score = postprocess_output(\n",
    "    long_burn_in_music, f\"Long burn-in: {long_burn_in_duration}, key: {key}\"\n",
    ")\n",
    "long_burn_in_score.write(\"musicxml\", fp=f\"outputs/long-burn-in-{key}.musicxml\")\n"
   ]
  },
  {
   "cell_type": "code",
   "execution_count": null,
   "metadata": {},
   "outputs": [],
   "source": [
    "burned_in_chords = initialize_burn_in(\"CM\", 100)"
   ]
  },
  {
   "cell_type": "code",
   "execution_count": null,
   "metadata": {},
   "outputs": [],
   "source": [
    "# No burn-in, uniform weights\n",
    "no_burn_in_no_weights_music = generate_music(\n",
    "    \"CM\", 8, 8, 100, initial_chords=None, weights=None\n",
    ")\n",
    "no_burn_in_no_weights_score = postprocess_output(\n",
    "    no_burn_in_no_weights_music, \"No burn-in, uniform weights\"\n",
    ")\n",
    "no_burn_in_no_weights_score.write(\n",
    "    \"musicxml\", fp=\"outputs/no-burn-in-no-weights.musicxml\"\n",
    ")"
   ]
  },
  {
   "cell_type": "code",
   "execution_count": null,
   "metadata": {},
   "outputs": [],
   "source": [
    "# Long burn-in, uniform weights\n",
    "burned_in_chords = initialize_burn_in(\"CM\", 100)\n",
    "long_burn_in_no_weights_music = generate_music(\n",
    "    \"CM\", 8, 8, 100, initial_chords=burned_in_chords, weights=None\n",
    ")\n",
    "long_burn_in_no_weights_score = postprocess_output(\n",
    "    long_burn_in_no_weights_music, \"burn-in 100, uniform weights\"\n",
    ")\n",
    "long_burn_in_no_weights_score.write(\n",
    "    \"musicxml\", fp=\"outputs/long-burn-in-no-weights.musicxml\"\n",
    ")"
   ]
  },
  {
   "cell_type": "code",
   "execution_count": null,
   "metadata": {},
   "outputs": [],
   "source": [
    "# Custom weights favoring more recent chords\n",
    "# custom_weights = np.array([0.1, 0.2, 0.3, 0.4, 0.5, 0.6, 0.7, 0.8])\n",
    "# recent_preferring_weights = np.array([0.1, 0.1, 0.1, 0.1, 0.1, 8, 9, 10])\n",
    "recent_preferring_weights = np.array([0, 0, 0, 0, 0, 0, 0, 1], dtype=np.float64)\n",
    "recent_preferring_weights /= recent_preferring_weights.sum()\n",
    "long_burn_in_duration = 100_000\n",
    "key = \"CM\"\n",
    "burned_in_chords = initialize_burn_in(key, long_burn_in_duration)\n",
    "recent_preferring_music = generate_music(\n",
    "    key, 8, 8, 100, weights=recent_preferring_weights, initial_chords=burned_in_chords\n",
    ")\n",
    "recent_preferring_score = postprocess_output(\n",
    "    recent_preferring_music,\n",
    "    f\"Long burn in: {long_burn_in_duration}, recent preferring weights: {recent_preferring_weights.tolist()}, key: {key}\",\n",
    ")\n",
    "recent_preferring_score.write(\"musicxml\", fp=\"outputs/recent-preferring.musicxml\")\n"
   ]
  },
  {
   "cell_type": "code",
   "execution_count": null,
   "metadata": {},
   "outputs": [],
   "source": [
    "burned_in_chords = initialize_burn_in(\"CM\", 100_000)\n",
    "less_recent_preferring_weights = np.array([10, 9, 8, 7, 6, 5, 4, 3], dtype=np.float64)\n",
    "less_recent_preferring_weights /= less_recent_preferring_weights.sum()\n",
    "less_recent_preferring_music = generate_music(\n",
    "    \"CM\",\n",
    "    8,\n",
    "    8,\n",
    "    100,\n",
    "    initial_chords=burned_in_chords,\n",
    "    weights=less_recent_preferring_weights,\n",
    ")\n",
    "less_recent_preferring_score = postprocess_output(\n",
    "    less_recent_preferring_music,\n",
    "    f\"Long burn in: {long_burn_in_duration}, less recent preferring weights: {less_recent_preferring_weights.round(2).tolist()}\",\n",
    ")\n",
    "less_recent_preferring_score.write(\n",
    "    \"musicxml\", fp=\"outputs/less-recent-preferring.musicxml\"\n",
    ")"
   ]
  }
 ],
 "metadata": {
  "kernelspec": {
   "display_name": "Python 3",
   "language": "python",
   "name": "python3"
  },
  "language_info": {
   "codemirror_mode": {
    "name": "ipython",
    "version": 3
   },
   "file_extension": ".py",
   "mimetype": "text/x-python",
   "name": "python",
   "nbconvert_exporter": "python",
   "pygments_lexer": "ipython3",
   "version": "3.10.6"
  }
 },
 "nbformat": 4,
 "nbformat_minor": 2
}
